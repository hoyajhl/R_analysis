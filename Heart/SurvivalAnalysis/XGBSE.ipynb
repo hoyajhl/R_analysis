{
 "cells": [
  {
   "cell_type": "markdown",
   "id": "6fe3c135",
   "metadata": {},
   "source": [
    "### XGBSE Survival Analysis "
   ]
  },
  {
   "cell_type": "code",
   "execution_count": 6,
   "id": "b7658497",
   "metadata": {},
   "outputs": [],
   "source": [
    "# importing model and utils from xgbse\n",
    "from xgbse import XGBSEKaplanNeighbors\n",
    "from xgbse.converters import convert_to_structured\n",
    "import pandas as pd"
   ]
  },
  {
   "cell_type": "code",
   "execution_count": 8,
   "id": "bb7d9956",
   "metadata": {
    "scrolled": true
   },
   "outputs": [
    {
     "data": {
      "text/html": [
       "<div>\n",
       "<style scoped>\n",
       "    .dataframe tbody tr th:only-of-type {\n",
       "        vertical-align: middle;\n",
       "    }\n",
       "\n",
       "    .dataframe tbody tr th {\n",
       "        vertical-align: top;\n",
       "    }\n",
       "\n",
       "    .dataframe thead th {\n",
       "        text-align: right;\n",
       "    }\n",
       "</style>\n",
       "<table border=\"1\" class=\"dataframe\">\n",
       "  <thead>\n",
       "    <tr style=\"text-align: right;\">\n",
       "      <th></th>\n",
       "      <th>age</th>\n",
       "      <th>anaemia</th>\n",
       "      <th>creatinine_phosphokinase</th>\n",
       "      <th>diabetes</th>\n",
       "      <th>ejection_fraction</th>\n",
       "      <th>high_blood_pressure</th>\n",
       "      <th>platelets</th>\n",
       "      <th>serum_creatinine</th>\n",
       "      <th>serum_sodium</th>\n",
       "      <th>sex</th>\n",
       "      <th>smoking</th>\n",
       "      <th>time</th>\n",
       "      <th>DEATH_EVENT</th>\n",
       "    </tr>\n",
       "  </thead>\n",
       "  <tbody>\n",
       "    <tr>\n",
       "      <th>0</th>\n",
       "      <td>75.0</td>\n",
       "      <td>0</td>\n",
       "      <td>582</td>\n",
       "      <td>0</td>\n",
       "      <td>20</td>\n",
       "      <td>1</td>\n",
       "      <td>265000.00</td>\n",
       "      <td>1.9</td>\n",
       "      <td>130</td>\n",
       "      <td>1</td>\n",
       "      <td>0</td>\n",
       "      <td>4</td>\n",
       "      <td>1</td>\n",
       "    </tr>\n",
       "    <tr>\n",
       "      <th>1</th>\n",
       "      <td>55.0</td>\n",
       "      <td>0</td>\n",
       "      <td>7861</td>\n",
       "      <td>0</td>\n",
       "      <td>38</td>\n",
       "      <td>0</td>\n",
       "      <td>263358.03</td>\n",
       "      <td>1.1</td>\n",
       "      <td>136</td>\n",
       "      <td>1</td>\n",
       "      <td>0</td>\n",
       "      <td>6</td>\n",
       "      <td>1</td>\n",
       "    </tr>\n",
       "    <tr>\n",
       "      <th>2</th>\n",
       "      <td>65.0</td>\n",
       "      <td>0</td>\n",
       "      <td>146</td>\n",
       "      <td>0</td>\n",
       "      <td>20</td>\n",
       "      <td>0</td>\n",
       "      <td>162000.00</td>\n",
       "      <td>1.3</td>\n",
       "      <td>129</td>\n",
       "      <td>1</td>\n",
       "      <td>1</td>\n",
       "      <td>7</td>\n",
       "      <td>1</td>\n",
       "    </tr>\n",
       "    <tr>\n",
       "      <th>3</th>\n",
       "      <td>50.0</td>\n",
       "      <td>1</td>\n",
       "      <td>111</td>\n",
       "      <td>0</td>\n",
       "      <td>20</td>\n",
       "      <td>0</td>\n",
       "      <td>210000.00</td>\n",
       "      <td>1.9</td>\n",
       "      <td>137</td>\n",
       "      <td>1</td>\n",
       "      <td>0</td>\n",
       "      <td>7</td>\n",
       "      <td>1</td>\n",
       "    </tr>\n",
       "    <tr>\n",
       "      <th>4</th>\n",
       "      <td>65.0</td>\n",
       "      <td>1</td>\n",
       "      <td>160</td>\n",
       "      <td>1</td>\n",
       "      <td>20</td>\n",
       "      <td>0</td>\n",
       "      <td>327000.00</td>\n",
       "      <td>2.7</td>\n",
       "      <td>116</td>\n",
       "      <td>0</td>\n",
       "      <td>0</td>\n",
       "      <td>8</td>\n",
       "      <td>1</td>\n",
       "    </tr>\n",
       "  </tbody>\n",
       "</table>\n",
       "</div>"
      ],
      "text/plain": [
       "    age  anaemia  creatinine_phosphokinase  diabetes  ejection_fraction  \\\n",
       "0  75.0        0                       582         0                 20   \n",
       "1  55.0        0                      7861         0                 38   \n",
       "2  65.0        0                       146         0                 20   \n",
       "3  50.0        1                       111         0                 20   \n",
       "4  65.0        1                       160         1                 20   \n",
       "\n",
       "   high_blood_pressure  platelets  serum_creatinine  serum_sodium  sex  \\\n",
       "0                    1  265000.00               1.9           130    1   \n",
       "1                    0  263358.03               1.1           136    1   \n",
       "2                    0  162000.00               1.3           129    1   \n",
       "3                    0  210000.00               1.9           137    1   \n",
       "4                    0  327000.00               2.7           116    0   \n",
       "\n",
       "   smoking  time  DEATH_EVENT  \n",
       "0        0     4            1  \n",
       "1        0     6            1  \n",
       "2        1     7            1  \n",
       "3        0     7            1  \n",
       "4        0     8            1  "
      ]
     },
     "metadata": {},
     "output_type": "display_data"
    }
   ],
   "source": [
    "df= pd.read_csv(\"C:/Kaggle/heart_failure/archive/heart_failure_clinical_records_dataset.csv\")\n",
    "display(df.head())"
   ]
  },
  {
   "cell_type": "markdown",
   "id": "1312fd94",
   "metadata": {},
   "source": [
    "#### -Basic setting "
   ]
  },
  {
   "cell_type": "code",
   "execution_count": 9,
   "id": "610739fe",
   "metadata": {},
   "outputs": [],
   "source": [
    "# splitting to X, y format\n",
    "X = df.drop(['time', 'DEATH_EVENT'], axis=1)\n",
    "y = convert_to_structured(df['time'], df['DEATH_EVENT'])"
   ]
  },
  {
   "cell_type": "code",
   "execution_count": 10,
   "id": "e6ffeadf",
   "metadata": {},
   "outputs": [
    {
     "data": {
      "text/plain": [
       "XGBSEKaplanNeighbors(n_neighbors=50,\n",
       "                     xgb_params={'aft_loss_distribution': 'normal',\n",
       "                                 'aft_loss_distribution_scale': 1,\n",
       "                                 'booster': 'dart', 'colsample_bynode': 0.5,\n",
       "                                 'eval_metric': 'aft-nloglik',\n",
       "                                 'learning_rate': 0.05, 'max_depth': 8,\n",
       "                                 'min_child_weight': 50,\n",
       "                                 'objective': 'survival:aft', 'subsample': 0.5,\n",
       "                                 'tree_method': 'hist'})"
      ]
     },
     "execution_count": 10,
     "metadata": {},
     "output_type": "execute_result"
    }
   ],
   "source": [
    "# fitting xgbse model\n",
    "xgbse_model = XGBSEKaplanNeighbors(n_neighbors=50)\n",
    "xgbse_model.fit(X, y)"
   ]
  },
  {
   "cell_type": "code",
   "execution_count": 54,
   "id": "dde5b58f",
   "metadata": {},
   "outputs": [
    {
     "data": {
      "text/html": [
       "<div>\n",
       "<style scoped>\n",
       "    .dataframe tbody tr th:only-of-type {\n",
       "        vertical-align: middle;\n",
       "    }\n",
       "\n",
       "    .dataframe tbody tr th {\n",
       "        vertical-align: top;\n",
       "    }\n",
       "\n",
       "    .dataframe thead th {\n",
       "        text-align: right;\n",
       "    }\n",
       "</style>\n",
       "<table border=\"1\" class=\"dataframe\">\n",
       "  <thead>\n",
       "    <tr style=\"text-align: right;\">\n",
       "      <th></th>\n",
       "      <th>age</th>\n",
       "      <th>anaemia</th>\n",
       "      <th>creatinine_phosphokinase</th>\n",
       "      <th>diabetes</th>\n",
       "      <th>ejection_fraction</th>\n",
       "      <th>high_blood_pressure</th>\n",
       "      <th>platelets</th>\n",
       "      <th>serum_creatinine</th>\n",
       "      <th>serum_sodium</th>\n",
       "      <th>sex</th>\n",
       "      <th>smoking</th>\n",
       "    </tr>\n",
       "  </thead>\n",
       "  <tbody>\n",
       "    <tr>\n",
       "      <th>0</th>\n",
       "      <td>75.0</td>\n",
       "      <td>0</td>\n",
       "      <td>582</td>\n",
       "      <td>0</td>\n",
       "      <td>20</td>\n",
       "      <td>1</td>\n",
       "      <td>265000.00</td>\n",
       "      <td>1.9</td>\n",
       "      <td>130</td>\n",
       "      <td>1</td>\n",
       "      <td>0</td>\n",
       "    </tr>\n",
       "    <tr>\n",
       "      <th>1</th>\n",
       "      <td>55.0</td>\n",
       "      <td>0</td>\n",
       "      <td>7861</td>\n",
       "      <td>0</td>\n",
       "      <td>38</td>\n",
       "      <td>0</td>\n",
       "      <td>263358.03</td>\n",
       "      <td>1.1</td>\n",
       "      <td>136</td>\n",
       "      <td>1</td>\n",
       "      <td>0</td>\n",
       "    </tr>\n",
       "    <tr>\n",
       "      <th>2</th>\n",
       "      <td>65.0</td>\n",
       "      <td>0</td>\n",
       "      <td>146</td>\n",
       "      <td>0</td>\n",
       "      <td>20</td>\n",
       "      <td>0</td>\n",
       "      <td>162000.00</td>\n",
       "      <td>1.3</td>\n",
       "      <td>129</td>\n",
       "      <td>1</td>\n",
       "      <td>1</td>\n",
       "    </tr>\n",
       "    <tr>\n",
       "      <th>3</th>\n",
       "      <td>50.0</td>\n",
       "      <td>1</td>\n",
       "      <td>111</td>\n",
       "      <td>0</td>\n",
       "      <td>20</td>\n",
       "      <td>0</td>\n",
       "      <td>210000.00</td>\n",
       "      <td>1.9</td>\n",
       "      <td>137</td>\n",
       "      <td>1</td>\n",
       "      <td>0</td>\n",
       "    </tr>\n",
       "    <tr>\n",
       "      <th>4</th>\n",
       "      <td>65.0</td>\n",
       "      <td>1</td>\n",
       "      <td>160</td>\n",
       "      <td>1</td>\n",
       "      <td>20</td>\n",
       "      <td>0</td>\n",
       "      <td>327000.00</td>\n",
       "      <td>2.7</td>\n",
       "      <td>116</td>\n",
       "      <td>0</td>\n",
       "      <td>0</td>\n",
       "    </tr>\n",
       "    <tr>\n",
       "      <th>...</th>\n",
       "      <td>...</td>\n",
       "      <td>...</td>\n",
       "      <td>...</td>\n",
       "      <td>...</td>\n",
       "      <td>...</td>\n",
       "      <td>...</td>\n",
       "      <td>...</td>\n",
       "      <td>...</td>\n",
       "      <td>...</td>\n",
       "      <td>...</td>\n",
       "      <td>...</td>\n",
       "    </tr>\n",
       "    <tr>\n",
       "      <th>294</th>\n",
       "      <td>62.0</td>\n",
       "      <td>0</td>\n",
       "      <td>61</td>\n",
       "      <td>1</td>\n",
       "      <td>38</td>\n",
       "      <td>1</td>\n",
       "      <td>155000.00</td>\n",
       "      <td>1.1</td>\n",
       "      <td>143</td>\n",
       "      <td>1</td>\n",
       "      <td>1</td>\n",
       "    </tr>\n",
       "    <tr>\n",
       "      <th>295</th>\n",
       "      <td>55.0</td>\n",
       "      <td>0</td>\n",
       "      <td>1820</td>\n",
       "      <td>0</td>\n",
       "      <td>38</td>\n",
       "      <td>0</td>\n",
       "      <td>270000.00</td>\n",
       "      <td>1.2</td>\n",
       "      <td>139</td>\n",
       "      <td>0</td>\n",
       "      <td>0</td>\n",
       "    </tr>\n",
       "    <tr>\n",
       "      <th>296</th>\n",
       "      <td>45.0</td>\n",
       "      <td>0</td>\n",
       "      <td>2060</td>\n",
       "      <td>1</td>\n",
       "      <td>60</td>\n",
       "      <td>0</td>\n",
       "      <td>742000.00</td>\n",
       "      <td>0.8</td>\n",
       "      <td>138</td>\n",
       "      <td>0</td>\n",
       "      <td>0</td>\n",
       "    </tr>\n",
       "    <tr>\n",
       "      <th>297</th>\n",
       "      <td>45.0</td>\n",
       "      <td>0</td>\n",
       "      <td>2413</td>\n",
       "      <td>0</td>\n",
       "      <td>38</td>\n",
       "      <td>0</td>\n",
       "      <td>140000.00</td>\n",
       "      <td>1.4</td>\n",
       "      <td>140</td>\n",
       "      <td>1</td>\n",
       "      <td>1</td>\n",
       "    </tr>\n",
       "    <tr>\n",
       "      <th>298</th>\n",
       "      <td>50.0</td>\n",
       "      <td>0</td>\n",
       "      <td>196</td>\n",
       "      <td>0</td>\n",
       "      <td>45</td>\n",
       "      <td>0</td>\n",
       "      <td>395000.00</td>\n",
       "      <td>1.6</td>\n",
       "      <td>136</td>\n",
       "      <td>1</td>\n",
       "      <td>1</td>\n",
       "    </tr>\n",
       "  </tbody>\n",
       "</table>\n",
       "<p>299 rows × 11 columns</p>\n",
       "</div>"
      ],
      "text/plain": [
       "      age  anaemia  creatinine_phosphokinase  diabetes  ejection_fraction  \\\n",
       "0    75.0        0                       582         0                 20   \n",
       "1    55.0        0                      7861         0                 38   \n",
       "2    65.0        0                       146         0                 20   \n",
       "3    50.0        1                       111         0                 20   \n",
       "4    65.0        1                       160         1                 20   \n",
       "..    ...      ...                       ...       ...                ...   \n",
       "294  62.0        0                        61         1                 38   \n",
       "295  55.0        0                      1820         0                 38   \n",
       "296  45.0        0                      2060         1                 60   \n",
       "297  45.0        0                      2413         0                 38   \n",
       "298  50.0        0                       196         0                 45   \n",
       "\n",
       "     high_blood_pressure  platelets  serum_creatinine  serum_sodium  sex  \\\n",
       "0                      1  265000.00               1.9           130    1   \n",
       "1                      0  263358.03               1.1           136    1   \n",
       "2                      0  162000.00               1.3           129    1   \n",
       "3                      0  210000.00               1.9           137    1   \n",
       "4                      0  327000.00               2.7           116    0   \n",
       "..                   ...        ...               ...           ...  ...   \n",
       "294                    1  155000.00               1.1           143    1   \n",
       "295                    0  270000.00               1.2           139    0   \n",
       "296                    0  742000.00               0.8           138    0   \n",
       "297                    0  140000.00               1.4           140    1   \n",
       "298                    0  395000.00               1.6           136    1   \n",
       "\n",
       "     smoking  \n",
       "0          0  \n",
       "1          0  \n",
       "2          1  \n",
       "3          0  \n",
       "4          0  \n",
       "..       ...  \n",
       "294        1  \n",
       "295        0  \n",
       "296        0  \n",
       "297        1  \n",
       "298        1  \n",
       "\n",
       "[299 rows x 11 columns]"
      ]
     },
     "execution_count": 54,
     "metadata": {},
     "output_type": "execute_result"
    }
   ],
   "source": [
    "X"
   ]
  },
  {
   "cell_type": "code",
   "execution_count": 11,
   "id": "fdf4199a",
   "metadata": {
    "scrolled": true
   },
   "outputs": [
    {
     "data": {
      "text/html": [
       "<div>\n",
       "<style scoped>\n",
       "    .dataframe tbody tr th:only-of-type {\n",
       "        vertical-align: middle;\n",
       "    }\n",
       "\n",
       "    .dataframe tbody tr th {\n",
       "        vertical-align: top;\n",
       "    }\n",
       "\n",
       "    .dataframe thead th {\n",
       "        text-align: right;\n",
       "    }\n",
       "</style>\n",
       "<table border=\"1\" class=\"dataframe\">\n",
       "  <thead>\n",
       "    <tr style=\"text-align: right;\">\n",
       "      <th></th>\n",
       "      <th>13</th>\n",
       "      <th>33</th>\n",
       "      <th>54</th>\n",
       "      <th>74</th>\n",
       "      <th>95</th>\n",
       "      <th>116</th>\n",
       "      <th>136</th>\n",
       "      <th>157</th>\n",
       "      <th>178</th>\n",
       "      <th>198</th>\n",
       "      <th>219</th>\n",
       "      <th>240</th>\n",
       "    </tr>\n",
       "  </thead>\n",
       "  <tbody>\n",
       "    <tr>\n",
       "      <th>0</th>\n",
       "      <td>0.92</td>\n",
       "      <td>0.819048</td>\n",
       "      <td>0.757619</td>\n",
       "      <td>0.675714</td>\n",
       "      <td>0.628998</td>\n",
       "      <td>0.550373</td>\n",
       "      <td>0.522855</td>\n",
       "      <td>0.492099</td>\n",
       "      <td>0.461342</td>\n",
       "      <td>0.419402</td>\n",
       "      <td>0.419402</td>\n",
       "      <td>0.419402</td>\n",
       "    </tr>\n",
       "    <tr>\n",
       "      <th>1</th>\n",
       "      <td>0.96</td>\n",
       "      <td>0.960000</td>\n",
       "      <td>0.880000</td>\n",
       "      <td>0.820000</td>\n",
       "      <td>0.820000</td>\n",
       "      <td>0.795152</td>\n",
       "      <td>0.767732</td>\n",
       "      <td>0.767732</td>\n",
       "      <td>0.737023</td>\n",
       "      <td>0.737023</td>\n",
       "      <td>0.675605</td>\n",
       "      <td>0.675605</td>\n",
       "    </tr>\n",
       "    <tr>\n",
       "      <th>2</th>\n",
       "      <td>0.90</td>\n",
       "      <td>0.736744</td>\n",
       "      <td>0.736744</td>\n",
       "      <td>0.671737</td>\n",
       "      <td>0.598684</td>\n",
       "      <td>0.572654</td>\n",
       "      <td>0.545385</td>\n",
       "      <td>0.545385</td>\n",
       "      <td>0.518115</td>\n",
       "      <td>0.485733</td>\n",
       "      <td>0.448369</td>\n",
       "      <td>0.336277</td>\n",
       "    </tr>\n",
       "    <tr>\n",
       "      <th>3</th>\n",
       "      <td>0.94</td>\n",
       "      <td>0.879545</td>\n",
       "      <td>0.859091</td>\n",
       "      <td>0.773182</td>\n",
       "      <td>0.727619</td>\n",
       "      <td>0.701633</td>\n",
       "      <td>0.669741</td>\n",
       "      <td>0.634491</td>\n",
       "      <td>0.563992</td>\n",
       "      <td>0.523707</td>\n",
       "      <td>0.480065</td>\n",
       "      <td>0.480065</td>\n",
       "    </tr>\n",
       "    <tr>\n",
       "      <th>4</th>\n",
       "      <td>0.88</td>\n",
       "      <td>0.757209</td>\n",
       "      <td>0.694109</td>\n",
       "      <td>0.629036</td>\n",
       "      <td>0.578713</td>\n",
       "      <td>0.552408</td>\n",
       "      <td>0.552408</td>\n",
       "      <td>0.552408</td>\n",
       "      <td>0.515581</td>\n",
       "      <td>0.515581</td>\n",
       "      <td>0.515581</td>\n",
       "      <td>0.257790</td>\n",
       "    </tr>\n",
       "  </tbody>\n",
       "</table>\n",
       "</div>"
      ],
      "text/plain": [
       "    13        33        54        74        95        116       136       157  \\\n",
       "0  0.92  0.819048  0.757619  0.675714  0.628998  0.550373  0.522855  0.492099   \n",
       "1  0.96  0.960000  0.880000  0.820000  0.820000  0.795152  0.767732  0.767732   \n",
       "2  0.90  0.736744  0.736744  0.671737  0.598684  0.572654  0.545385  0.545385   \n",
       "3  0.94  0.879545  0.859091  0.773182  0.727619  0.701633  0.669741  0.634491   \n",
       "4  0.88  0.757209  0.694109  0.629036  0.578713  0.552408  0.552408  0.552408   \n",
       "\n",
       "        178       198       219       240  \n",
       "0  0.461342  0.419402  0.419402  0.419402  \n",
       "1  0.737023  0.737023  0.675605  0.675605  \n",
       "2  0.518115  0.485733  0.448369  0.336277  \n",
       "3  0.563992  0.523707  0.480065  0.480065  \n",
       "4  0.515581  0.515581  0.515581  0.257790  "
      ]
     },
     "execution_count": 11,
     "metadata": {},
     "output_type": "execute_result"
    }
   ],
   "source": [
    "# predicting\n",
    "event_probs = xgbse_model.predict(X)\n",
    "event_probs.head()"
   ]
  },
  {
   "cell_type": "code",
   "execution_count": 19,
   "id": "23c67a0d",
   "metadata": {},
   "outputs": [],
   "source": [
    "import matplotlib.pyplot as plt"
   ]
  },
  {
   "cell_type": "markdown",
   "id": "22ce07ca",
   "metadata": {},
   "source": [
    "##### Different probability according depending on TIME beans "
   ]
  },
  {
   "cell_type": "code",
   "execution_count": 59,
   "id": "78e89383",
   "metadata": {},
   "outputs": [
    {
     "data": {
      "text/plain": [
       "13     0.951572\n",
       "33     0.875574\n",
       "54     0.838884\n",
       "74     0.793112\n",
       "95     0.766744\n",
       "116    0.743257\n",
       "136    0.720949\n",
       "157    0.708869\n",
       "178    0.680927\n",
       "198    0.652962\n",
       "219    0.629304\n",
       "240    0.614889\n",
       "dtype: float64"
      ]
     },
     "execution_count": 59,
     "metadata": {},
     "output_type": "execute_result"
    }
   ],
   "source": [
    "event_probs.mean()"
   ]
  },
  {
   "cell_type": "code",
   "execution_count": 67,
   "id": "27dd8afe",
   "metadata": {
    "scrolled": true
   },
   "outputs": [
    {
     "data": {
      "text/plain": [
       "<AxesSubplot:>"
      ]
     },
     "execution_count": 67,
     "metadata": {},
     "output_type": "execute_result"
    },
    {
     "data": {
      "image/png": "[encoded data removed]",
      "text/plain": [
       "<Figure size 288x360 with 1 Axes>"
      ]
     },
     "metadata": {
      "needs_background": "light"
     },
     "output_type": "display_data"
    }
   ],
   "source": [
    "plt.figure(figsize=(4,5))\n",
    "event_probs.mean().plot.line()"
   ]
  },
  {
   "cell_type": "code",
   "execution_count": 53,
   "id": "65703201",
   "metadata": {},
   "outputs": [],
   "source": [
    "# to easily plot confidence intervals\n",
    "def plot_ci(mean, upper_ci, lower_ci, i=30, title='Probability of survival $P(T \\geq t)$'):\n",
    "\n",
    "    # plotting mean and confidence intervals\n",
    "    plt.figure(figsize=(12, 4), dpi=120)\n",
    "    plt.plot(mean.columns,mean.iloc[i])\n",
    "    plt.fill_between(mean.columns, lower_ci.iloc[i], upper_ci.iloc[i], alpha=0.2)\n",
    "\n",
    "    plt.title(title)\n",
    "    plt.xlabel('Time [days]')\n",
    "    plt.ylabel('Probability')\n",
    "    plt.tight_layout()"
   ]
  },
  {
   "cell_type": "code",
   "execution_count": 27,
   "id": "c3d95cd5",
   "metadata": {},
   "outputs": [
    {
     "data": {
      "image/png": "[encoded data removed]",
      "text/plain": [
       "<Figure size 1440x480 with 1 Axes>"
      ]
     },
     "metadata": {
      "needs_background": "light"
     },
     "output_type": "display_data"
    }
   ],
   "source": [
    "# predicting\n",
    "mean, upper_ci, lower_ci = xgbse_model.predict(X, return_ci=True)\n",
    "# plotting CIs\n",
    "plot_ci(mean, upper_ci, lower_ci)"
   ]
  },
  {
   "cell_type": "markdown",
   "id": "719bfb82",
   "metadata": {},
   "source": [
    "### Real Analysis splitting into train/test split"
   ]
  },
  {
   "cell_type": "code",
   "execution_count": 33,
   "id": "a0d1679a",
   "metadata": {},
   "outputs": [],
   "source": [
    "from sklearn.model_selection import train_test_split\n",
    "import numpy as np"
   ]
  },
  {
   "cell_type": "code",
   "execution_count": 34,
   "id": "7a5a71fb",
   "metadata": {
    "scrolled": true
   },
   "outputs": [
    {
     "data": {
      "text/plain": [
       "array([ 15,  30,  45,  60,  75,  90, 105, 120, 135, 150, 165, 180, 195,\n",
       "       210, 225, 240, 255, 270, 285, 300])"
      ]
     },
     "execution_count": 34,
     "metadata": {},
     "output_type": "execute_result"
    }
   ],
   "source": [
    "# splitting between train, and validation\n",
    "X_train, X_test, y_train, y_test = train_test_split(X, y, test_size=1/3, random_state = 0)\n",
    "TIME_BINS = np.arange(15, 315, 15)\n",
    "TIME_BINS"
   ]
  },
  {
   "cell_type": "code",
   "execution_count": 35,
   "id": "355755ce",
   "metadata": {},
   "outputs": [],
   "source": [
    "from xgbse import XGBSEKaplanTree, XGBSEBootstrapEstimator\n",
    "from xgbse.metrics import concordance_index, approx_brier_score\n",
    "# xgboost parameters to fit our model\n",
    "PARAMS_TREE = {\n",
    "    'objective': 'survival:cox',\n",
    "    'eval_metric': 'cox-nloglik',\n",
    "    'tree_method': 'hist',\n",
    "    'max_depth': 10,\n",
    "    'booster':'dart',\n",
    "    'subsample': 1.0,\n",
    "    'min_child_weight': 50,\n",
    "    'colsample_bynode': 1.0\n",
    "}"
   ]
  },
  {
   "cell_type": "code",
   "execution_count": 36,
   "id": "d04a799f",
   "metadata": {},
   "outputs": [
    {
     "data": {
      "text/plain": [
       "XGBSEKaplanTree(xgb_params={'booster': 'dart', 'colsample_bynode': 1.0,\n",
       "                            'eval_metric': 'cox-nloglik', 'max_depth': 10,\n",
       "                            'min_child_weight': 50, 'objective': 'survival:cox',\n",
       "                            'subsample': 1.0, 'tree_method': 'hist'})"
      ]
     },
     "execution_count": 36,
     "metadata": {},
     "output_type": "execute_result"
    }
   ],
   "source": [
    "# fitting xgbse model\n",
    "xgbse_model = XGBSEKaplanTree(PARAMS_TREE)\n",
    "xgbse_model.fit(X_train, y_train, time_bins=TIME_BINS)"
   ]
  },
  {
   "cell_type": "markdown",
   "id": "104f8a62",
   "metadata": {},
   "source": [
    "##### The KaplanTree and KaplanNeighbors models support estimation of confidence intervals via the Exponential Greenwood formula."
   ]
  },
  {
   "cell_type": "code",
   "execution_count": 37,
   "id": "7c94aab7",
   "metadata": {},
   "outputs": [],
   "source": [
    "# predicting\n",
    "mean, upper_ci, lower_ci = xgbse_model.predict(X_test, return_ci=True)"
   ]
  },
  {
   "cell_type": "code",
   "execution_count": 39,
   "id": "c707297e",
   "metadata": {},
   "outputs": [
    {
     "name": "stdout",
     "output_type": "stream",
     "text": [
      "C-index: 0.5\n",
      "Avg. Brier Score: 0.16379075767673226\n"
     ]
    }
   ],
   "source": [
    "# print metrics\n",
    "print(f\"C-index: {concordance_index(y_test, mean)}\")\n",
    "print(f\"Avg. Brier Score: {approx_brier_score(y_test, mean)}\")"
   ]
  },
  {
   "cell_type": "code",
   "execution_count": 51,
   "id": "616b563f",
   "metadata": {},
   "outputs": [
    {
     "data": {
      "image/png": "[encoded data removed]",
      "text/plain": [
       "<Figure size 1440x480 with 1 Axes>"
      ]
     },
     "metadata": {
      "needs_background": "light"
     },
     "output_type": "display_data"
    }
   ],
   "source": [
    "# plotting CIs\n",
    "plot_ci(mean, upper_ci, lower_ci)"
   ]
  },
  {
   "cell_type": "markdown",
   "id": "2cde8844",
   "metadata": {},
   "source": [
    "### Non-parametric Form\n",
    "##### -XGBSEBootstrapEstimator Model \n",
    "###### To wrap any XGBSE model and get confidence intervals via bagging\n",
    "###### which also increase performance at the cost of computation time"
   ]
  },
  {
   "cell_type": "code",
   "execution_count": 43,
   "id": "4ffb4ad8",
   "metadata": {},
   "outputs": [],
   "source": [
    "# base model as XGBSEKaplanTree\n",
    "base_model = XGBSEKaplanTree(PARAMS_TREE)"
   ]
  },
  {
   "cell_type": "code",
   "execution_count": 44,
   "id": "ed41d32a",
   "metadata": {},
   "outputs": [],
   "source": [
    "# bootstrap meta estimator\n",
    "bootstrap_estimator = XGBSEBootstrapEstimator(base_model, n_estimators=100)"
   ]
  },
  {
   "cell_type": "code",
   "execution_count": 45,
   "id": "1b23ab33",
   "metadata": {},
   "outputs": [
    {
     "data": {
      "text/plain": [
       "XGBSEBootstrapEstimator(base_estimator=XGBSEKaplanTree(xgb_params={'booster': 'dart',\n",
       "                                                                   'colsample_bynode': 1.0,\n",
       "                                                                   'eval_metric': 'cox-nloglik',\n",
       "                                                                   'max_depth': 10,\n",
       "                                                                   'min_child_weight': 50,\n",
       "                                                                   'objective': 'survival:cox',\n",
       "                                                                   'subsample': 1.0,\n",
       "                                                                   'tree_method': 'hist'}),\n",
       "                        n_estimators=100)"
      ]
     },
     "execution_count": 45,
     "metadata": {},
     "output_type": "execute_result"
    }
   ],
   "source": [
    "# fitting the meta estimator\n",
    "bootstrap_estimator.fit(X_train, y_train, time_bins=TIME_BINS)"
   ]
  },
  {
   "cell_type": "code",
   "execution_count": 46,
   "id": "3f4cc5ad",
   "metadata": {},
   "outputs": [],
   "source": [
    "# predicting\n",
    "mean, upper_ci, lower_ci = bootstrap_estimator.predict(X_test, return_ci=True)"
   ]
  },
  {
   "cell_type": "code",
   "execution_count": 47,
   "id": "31b1e9a3",
   "metadata": {},
   "outputs": [
    {
     "name": "stdout",
     "output_type": "stream",
     "text": [
      "C-index: 0.5\n",
      "Avg. Brier Score: 0.16380587772018423\n"
     ]
    }
   ],
   "source": [
    "# print metrics\n",
    "print(f\"C-index: {concordance_index(y_test, mean)}\")\n",
    "print(f\"Avg. Brier Score: {approx_brier_score(y_test, mean)}\")"
   ]
  },
  {
   "cell_type": "code",
   "execution_count": 52,
   "id": "91234642",
   "metadata": {},
   "outputs": [
    {
     "data": {
      "image/png": "[encoded data removed]",
      "text/plain": [
       "<Figure size 1440x480 with 1 Axes>"
      ]
     },
     "metadata": {
      "needs_background": "light"
     },
     "output_type": "display_data"
    }
   ],
   "source": [
    "# plotting CIs\n",
    "plot_ci(mean, upper_ci, lower_ci)"
   ]
  },
  {
   "cell_type": "markdown",
   "id": "306807af",
   "metadata": {},
   "source": [
    "### References\n",
    "https://loft-br.github.io/xgboost-survival-embeddings/basic-usage.html"
   ]
  }
 ],
 "metadata": {
  "kernelspec": {
   "display_name": "Python 3",
   "language": "python",
   "name": "python3"
  },
  "language_info": {
   "codemirror_mode": {
    "name": "ipython",
    "version": 3
   },
   "file_extension": ".py",
   "mimetype": "text/x-python",
   "name": "python",
   "nbconvert_exporter": "python",
   "pygments_lexer": "ipython3",
   "version": "3.8.8"
  }
 },
 "nbformat": 4,
 "nbformat_minor": 5
}
